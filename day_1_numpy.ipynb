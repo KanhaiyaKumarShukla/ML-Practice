{
  "nbformat": 4,
  "nbformat_minor": 0,
  "metadata": {
    "colab": {
      "provenance": [],
      "authorship_tag": "ABX9TyO135hu77cly/ThTeV9l5xy",
      "include_colab_link": true
    },
    "kernelspec": {
      "name": "python3",
      "display_name": "Python 3"
    },
    "language_info": {
      "name": "python"
    }
  },
  "cells": [
    {
      "cell_type": "markdown",
      "metadata": {
        "id": "view-in-github",
        "colab_type": "text"
      },
      "source": [
        "<a href=\"https://colab.research.google.com/github/KanhaiyaKumarShukla/ML-Practice/blob/main/day_1_numpy.ipynb\" target=\"_parent\"><img src=\"https://colab.research.google.com/assets/colab-badge.svg\" alt=\"Open In Colab\"/></a>"
      ]
    },
    {
      "cell_type": "markdown",
      "source": [
        "# creating numpy arrays"
      ],
      "metadata": {
        "id": "3Qrjbhi3YPDA"
      }
    },
    {
      "cell_type": "code",
      "source": [
        "import numpy as np"
      ],
      "metadata": {
        "id": "qWB3IbLkYV0q"
      },
      "execution_count": 5,
      "outputs": []
    },
    {
      "cell_type": "markdown",
      "source": [
        "Mehtod -01: `np.array([ ])`"
      ],
      "metadata": {
        "id": "UX3WviCLY1-M"
      }
    },
    {
      "cell_type": "code",
      "source": [
        "arr1=np.array([1, 2, 3])\n",
        "arr1"
      ],
      "metadata": {
        "colab": {
          "base_uri": "https://localhost:8080/"
        },
        "id": "qXpyAxkAY_8y",
        "outputId": "653f821e-949f-48bd-999c-8b3ebcabf2e4"
      },
      "execution_count": null,
      "outputs": [
        {
          "output_type": "execute_result",
          "data": {
            "text/plain": [
              "array([1, 2, 3])"
            ]
          },
          "metadata": {},
          "execution_count": 2
        }
      ]
    },
    {
      "cell_type": "code",
      "source": [
        "type(arr1)"
      ],
      "metadata": {
        "colab": {
          "base_uri": "https://localhost:8080/"
        },
        "id": "ekr7FzFPZG7q",
        "outputId": "ce068a86-84b8-4199-fe50-dea38b9722ad"
      },
      "execution_count": null,
      "outputs": [
        {
          "output_type": "execute_result",
          "data": {
            "text/plain": [
              "numpy.ndarray"
            ]
          },
          "metadata": {},
          "execution_count": 3
        }
      ]
    },
    {
      "cell_type": "code",
      "source": [
        "arr12=np.array([[1, 2, 3], [4, 5, 6]])\n",
        "arr12"
      ],
      "metadata": {
        "colab": {
          "base_uri": "https://localhost:8080/"
        },
        "id": "hMeYtFi_ZKTb",
        "outputId": "48690bd7-669a-45a2-b30f-2f95e985acb9"
      },
      "execution_count": null,
      "outputs": [
        {
          "output_type": "execute_result",
          "data": {
            "text/plain": [
              "array([[1, 2, 3],\n",
              "       [4, 5, 6]])"
            ]
          },
          "metadata": {},
          "execution_count": 6
        }
      ]
    },
    {
      "cell_type": "code",
      "source": [],
      "metadata": {
        "id": "kxbI2WxOZU9R"
      },
      "execution_count": null,
      "outputs": []
    },
    {
      "cell_type": "markdown",
      "source": [
        "Method -02: `np.zeros/ ones/ empty/rando()`\n",
        "\n"
      ],
      "metadata": {
        "id": "GeQmM9CacX9K"
      }
    },
    {
      "cell_type": "code",
      "source": [
        "arr21=np.zeros((2, 3))\n",
        "arr21"
      ],
      "metadata": {
        "colab": {
          "base_uri": "https://localhost:8080/"
        },
        "id": "evOhBriuciQB",
        "outputId": "4b43d4f2-8982-4f39-99cb-8e4ada7c3a4d"
      },
      "execution_count": null,
      "outputs": [
        {
          "output_type": "execute_result",
          "data": {
            "text/plain": [
              "array([[0., 0., 0.],\n",
              "       [0., 0., 0.]])"
            ]
          },
          "metadata": {},
          "execution_count": 7
        }
      ]
    },
    {
      "cell_type": "code",
      "source": [
        "arr22=np.ones((3,2))"
      ],
      "metadata": {
        "id": "uc19plQkctL0"
      },
      "execution_count": null,
      "outputs": []
    },
    {
      "cell_type": "code",
      "source": [
        "arr22"
      ],
      "metadata": {
        "colab": {
          "base_uri": "https://localhost:8080/"
        },
        "id": "q_IV9Iyxcy0H",
        "outputId": "ba89821c-b52f-4d70-c438-879de8e8e560"
      },
      "execution_count": null,
      "outputs": [
        {
          "output_type": "execute_result",
          "data": {
            "text/plain": [
              "array([[1., 1.],\n",
              "       [1., 1.],\n",
              "       [1., 1.]])"
            ]
          },
          "metadata": {},
          "execution_count": 9
        }
      ]
    },
    {
      "cell_type": "code",
      "source": [
        "arr23=np.empty((2, 3))\n",
        "arr23"
      ],
      "metadata": {
        "colab": {
          "base_uri": "https://localhost:8080/"
        },
        "id": "KLAl9G-jc0Vc",
        "outputId": "18ed2694-5013-4724-8f7a-c2d17f25911a"
      },
      "execution_count": null,
      "outputs": [
        {
          "output_type": "execute_result",
          "data": {
            "text/plain": [
              "array([[1., 1., 1.],\n",
              "       [1., 1., 1.]])"
            ]
          },
          "metadata": {},
          "execution_count": 17
        }
      ]
    },
    {
      "cell_type": "code",
      "source": [
        "arr23=np.empty((2, 4))\n",
        "arr23"
      ],
      "metadata": {
        "colab": {
          "base_uri": "https://localhost:8080/"
        },
        "id": "P2Nfjqc8dHPx",
        "outputId": "62278235-feac-492c-db8b-70aead6be451"
      },
      "execution_count": null,
      "outputs": [
        {
          "output_type": "execute_result",
          "data": {
            "text/plain": [
              "array([[4.87299559e-310, 0.00000000e+000, 0.00000000e+000,\n",
              "        0.00000000e+000],\n",
              "       [0.00000000e+000, 0.00000000e+000, 0.00000000e+000,\n",
              "        0.00000000e+000]])"
            ]
          },
          "metadata": {},
          "execution_count": 18
        }
      ]
    },
    {
      "cell_type": "markdown",
      "source": [
        "`numpy.empty(shape, dtype=float, order='C')`\n",
        "\n",
        "\n",
        "*   shape: A tuple representing the dimensions of the array you want to create. eg.- (2, 3)\n",
        "* dtype: (optional) The desired data type for the array elements (default is float).\n",
        "* order: (optional) Whether to store multi-dimensional data in row-major (C-style) or column-major (Fortran-style) order.\n",
        "\n",
        "\n"
      ],
      "metadata": {
        "id": "mQJzGu_3etXZ"
      }
    },
    {
      "cell_type": "code",
      "source": [
        "arr23[0][0]=1\n",
        "arr23"
      ],
      "metadata": {
        "colab": {
          "base_uri": "https://localhost:8080/"
        },
        "id": "mvfwlVTfeGXR",
        "outputId": "758833f2-253b-44de-ca45-9145daffb4a3"
      },
      "execution_count": null,
      "outputs": [
        {
          "output_type": "execute_result",
          "data": {
            "text/plain": [
              "array([[1., 0., 0.],\n",
              "       [0., 0., 0.],\n",
              "       [0., 0., 0.]])"
            ]
          },
          "metadata": {},
          "execution_count": 20
        }
      ]
    },
    {
      "cell_type": "code",
      "source": [],
      "metadata": {
        "id": "MCqL-Zk0fPOK"
      },
      "execution_count": null,
      "outputs": []
    },
    {
      "cell_type": "markdown",
      "source": [
        "Method -03: `numpy.identity(n, dtype=None)`\n",
        " * create a square identity matrix of a specified size.\n",
        " * all digonal element are 1 and other elements are 0.\n"
      ],
      "metadata": {
        "id": "8w90d7lJfTPq"
      }
    },
    {
      "cell_type": "code",
      "source": [
        "np.identity(3)"
      ],
      "metadata": {
        "colab": {
          "base_uri": "https://localhost:8080/"
        },
        "id": "r8so0oBZfr9j",
        "outputId": "89e695cc-7162-46e0-89d2-9076d03a848d"
      },
      "execution_count": null,
      "outputs": [
        {
          "output_type": "execute_result",
          "data": {
            "text/plain": [
              "array([[1., 0., 0.],\n",
              "       [0., 1., 0.],\n",
              "       [0., 0., 1.]])"
            ]
          },
          "metadata": {},
          "execution_count": 21
        }
      ]
    },
    {
      "cell_type": "markdown",
      "source": [
        "Method- 04: `numpy.arange([start, ]stop[, step, ], dtype=None)`\n"
      ],
      "metadata": {
        "id": "jH40AYVAgU5t"
      }
    },
    {
      "cell_type": "code",
      "source": [
        "np.arange(10)\n"
      ],
      "metadata": {
        "colab": {
          "base_uri": "https://localhost:8080/"
        },
        "id": "1T66ZoTxf4s1",
        "outputId": "fb54d101-d73e-4f13-cc4f-3f3f76b22340"
      },
      "execution_count": null,
      "outputs": [
        {
          "output_type": "execute_result",
          "data": {
            "text/plain": [
              "array([0, 1, 2, 3, 4, 5, 6, 7, 8, 9])"
            ]
          },
          "metadata": {},
          "execution_count": 23
        }
      ]
    },
    {
      "cell_type": "code",
      "source": [
        "np.arange(0, 2, 0.3)"
      ],
      "metadata": {
        "colab": {
          "base_uri": "https://localhost:8080/"
        },
        "id": "vc2PZk_eg08z",
        "outputId": "c34a3e66-428a-4e1e-9b17-7d8e38b2e84e"
      },
      "execution_count": null,
      "outputs": [
        {
          "output_type": "execute_result",
          "data": {
            "text/plain": [
              "array([0. , 0.3, 0.6, 0.9, 1.2, 1.5, 1.8])"
            ]
          },
          "metadata": {},
          "execution_count": 24
        }
      ]
    },
    {
      "cell_type": "markdown",
      "source": [
        "Mehtod -05: linespace()\n",
        "\n",
        "```\n",
        "numpy.linspace(start, stop, num=50, endpoint=True, retstep=False, dtype=None, axis=0)\n",
        "\n",
        "```\n",
        "* num: (optional) The number of evenly spaced samples to generate. Default is 50.\n",
        "* endpoint: (optional) If True (default), stop is the last sample. If False, it is not included.\n",
        "* retstep: (optional) If True, it also returns the step size between consecutive values.\n",
        "\n",
        "It divide the `start` to `end` interval into `num` times and return the numbers.\n"
      ],
      "metadata": {
        "id": "34qia1OvrJ2_"
      }
    },
    {
      "cell_type": "code",
      "source": [
        "arr51=np.linspace(0, 2, 10)\n",
        "arr51"
      ],
      "metadata": {
        "colab": {
          "base_uri": "https://localhost:8080/"
        },
        "id": "pnOo_ppYg7I-",
        "outputId": "c4a80877-14cf-4479-cdb9-267c723603d9"
      },
      "execution_count": null,
      "outputs": [
        {
          "output_type": "execute_result",
          "data": {
            "text/plain": [
              "array([0.        , 0.22222222, 0.44444444, 0.66666667, 0.88888889,\n",
              "       1.11111111, 1.33333333, 1.55555556, 1.77777778, 2.        ])"
            ]
          },
          "metadata": {},
          "execution_count": 26
        }
      ]
    },
    {
      "cell_type": "markdown",
      "source": [
        "Here the interval `[0,2]` is divided into `10` times."
      ],
      "metadata": {
        "id": "ykhHtQMZr-cD"
      }
    },
    {
      "cell_type": "markdown",
      "source": [
        "Method-06: `copy()`"
      ],
      "metadata": {
        "id": "xdMpHoQ_sXA0"
      }
    },
    {
      "cell_type": "code",
      "source": [
        "arr6=arr51"
      ],
      "metadata": {
        "id": "ibd3K6PWr9ef"
      },
      "execution_count": null,
      "outputs": []
    },
    {
      "cell_type": "code",
      "source": [
        "arr6"
      ],
      "metadata": {
        "colab": {
          "base_uri": "https://localhost:8080/"
        },
        "id": "dGX1j_Eyr26x",
        "outputId": "9b6639a7-dc50-457c-b5f1-44787ed7d536"
      },
      "execution_count": null,
      "outputs": [
        {
          "output_type": "execute_result",
          "data": {
            "text/plain": [
              "array([0.        , 0.22222222, 0.44444444, 0.66666667, 0.88888889,\n",
              "       1.11111111, 1.33333333, 1.55555556, 1.77777778, 2.        ])"
            ]
          },
          "metadata": {},
          "execution_count": 28
        }
      ]
    },
    {
      "cell_type": "markdown",
      "source": [
        "# Attributes of Arrays:"
      ],
      "metadata": {
        "id": "NgE1Ilersozw"
      }
    },
    {
      "cell_type": "code",
      "source": [
        "arr6.shape"
      ],
      "metadata": {
        "colab": {
          "base_uri": "https://localhost:8080/"
        },
        "id": "UpIglZTTsgrL",
        "outputId": "bc216b77-86dd-4e04-81c7-a7f3bfa91fc5"
      },
      "execution_count": null,
      "outputs": [
        {
          "output_type": "execute_result",
          "data": {
            "text/plain": [
              "(10,)"
            ]
          },
          "metadata": {},
          "execution_count": 30
        }
      ]
    },
    {
      "cell_type": "code",
      "source": [
        "arr=np.array([[[2,3], [4, 5]], [[6,7], [8,9]]])\n",
        "arr.shape"
      ],
      "metadata": {
        "colab": {
          "base_uri": "https://localhost:8080/"
        },
        "id": "pp7dSTidsx9v",
        "outputId": "d8280916-904b-4f9e-85e1-f0eaa4729955"
      },
      "execution_count": null,
      "outputs": [
        {
          "output_type": "execute_result",
          "data": {
            "text/plain": [
              "(2, 2, 2)"
            ]
          },
          "metadata": {},
          "execution_count": 34
        }
      ]
    },
    {
      "cell_type": "code",
      "source": [
        "arr6.ndim"
      ],
      "metadata": {
        "colab": {
          "base_uri": "https://localhost:8080/"
        },
        "id": "N50XCHIdtRyq",
        "outputId": "9b33c187-8af5-4f69-ff89-65a125ed7f6b"
      },
      "execution_count": null,
      "outputs": [
        {
          "output_type": "execute_result",
          "data": {
            "text/plain": [
              "1"
            ]
          },
          "metadata": {},
          "execution_count": 35
        }
      ]
    },
    {
      "cell_type": "code",
      "source": [
        "arr.ndim"
      ],
      "metadata": {
        "colab": {
          "base_uri": "https://localhost:8080/"
        },
        "id": "CWao3iLAtbA7",
        "outputId": "a4f31907-c1d0-4425-b517-dc39b9a77d37"
      },
      "execution_count": null,
      "outputs": [
        {
          "output_type": "execute_result",
          "data": {
            "text/plain": [
              "3"
            ]
          },
          "metadata": {},
          "execution_count": 36
        }
      ]
    },
    {
      "cell_type": "code",
      "source": [
        "arr.size   # no. of elements in the array"
      ],
      "metadata": {
        "colab": {
          "base_uri": "https://localhost:8080/"
        },
        "id": "UeHjG8oDtmBA",
        "outputId": "e3f9a3a0-2b8f-4242-8ac4-8a45949558b7"
      },
      "execution_count": null,
      "outputs": [
        {
          "output_type": "execute_result",
          "data": {
            "text/plain": [
              "8"
            ]
          },
          "metadata": {},
          "execution_count": 37
        }
      ]
    },
    {
      "cell_type": "code",
      "source": [
        "arr.itemsize  # size of element of the array"
      ],
      "metadata": {
        "colab": {
          "base_uri": "https://localhost:8080/"
        },
        "id": "RMOHGlWduPdJ",
        "outputId": "5b5f8f6b-a6a3-4e32-89bc-9743fd5bb4ed"
      },
      "execution_count": null,
      "outputs": [
        {
          "output_type": "execute_result",
          "data": {
            "text/plain": [
              "8"
            ]
          },
          "metadata": {},
          "execution_count": 38
        }
      ]
    },
    {
      "cell_type": "code",
      "source": [
        "arr6.itemsize"
      ],
      "metadata": {
        "colab": {
          "base_uri": "https://localhost:8080/"
        },
        "id": "4CczM5bYuT9g",
        "outputId": "4eb7984f-cb4b-4ceb-baad-66714f677d21"
      },
      "execution_count": null,
      "outputs": [
        {
          "output_type": "execute_result",
          "data": {
            "text/plain": [
              "8"
            ]
          },
          "metadata": {},
          "execution_count": 39
        }
      ]
    },
    {
      "cell_type": "code",
      "source": [
        "arr1.itemsize"
      ],
      "metadata": {
        "colab": {
          "base_uri": "https://localhost:8080/"
        },
        "id": "u_2g29oSuaT3",
        "outputId": "281c95c7-c9f1-4dee-d566-1a4004b0b99c"
      },
      "execution_count": null,
      "outputs": [
        {
          "output_type": "execute_result",
          "data": {
            "text/plain": [
              "8"
            ]
          },
          "metadata": {},
          "execution_count": 40
        }
      ]
    },
    {
      "cell_type": "code",
      "source": [
        "arr1.dtype"
      ],
      "metadata": {
        "colab": {
          "base_uri": "https://localhost:8080/"
        },
        "id": "SarKRpNAujF4",
        "outputId": "7723aba2-e183-4a0f-a60a-3cc82402d075"
      },
      "execution_count": null,
      "outputs": [
        {
          "output_type": "execute_result",
          "data": {
            "text/plain": [
              "dtype('int64')"
            ]
          },
          "metadata": {},
          "execution_count": 41
        }
      ]
    },
    {
      "cell_type": "code",
      "source": [
        "arr6.dtype"
      ],
      "metadata": {
        "colab": {
          "base_uri": "https://localhost:8080/"
        },
        "id": "sAuLt4iWuof8",
        "outputId": "c10b5280-bad1-448b-8e1e-e7e97fe5ba7f"
      },
      "execution_count": null,
      "outputs": [
        {
          "output_type": "execute_result",
          "data": {
            "text/plain": [
              "dtype('float64')"
            ]
          },
          "metadata": {},
          "execution_count": 42
        }
      ]
    },
    {
      "cell_type": "code",
      "source": [
        "arr1=arr1.astype('int32')"
      ],
      "metadata": {
        "id": "U8OS9ApTurGn"
      },
      "execution_count": null,
      "outputs": []
    },
    {
      "cell_type": "code",
      "source": [
        "arr1.dtype"
      ],
      "metadata": {
        "colab": {
          "base_uri": "https://localhost:8080/"
        },
        "id": "ZajFJYQRu2va",
        "outputId": "e4d1d915-130f-4035-fd06-faa8158b256b"
      },
      "execution_count": null,
      "outputs": [
        {
          "output_type": "execute_result",
          "data": {
            "text/plain": [
              "dtype('int32')"
            ]
          },
          "metadata": {},
          "execution_count": 46
        }
      ]
    },
    {
      "cell_type": "code",
      "source": [
        "arr1.itemsize"
      ],
      "metadata": {
        "colab": {
          "base_uri": "https://localhost:8080/"
        },
        "id": "RAZhwJKKu4J6",
        "outputId": "77e86c4d-8320-4827-c103-c395819cf75f"
      },
      "execution_count": null,
      "outputs": [
        {
          "output_type": "execute_result",
          "data": {
            "text/plain": [
              "4"
            ]
          },
          "metadata": {},
          "execution_count": 47
        }
      ]
    },
    {
      "cell_type": "markdown",
      "source": [
        "## List in py v/s array in numpy"
      ],
      "metadata": {
        "id": "ZqbnaPfH34p9"
      }
    },
    {
      "cell_type": "code",
      "source": [
        "import sys\n",
        "lista=range(100)\n",
        "arr=np.arange(100)\n",
        "# print(sys.getsizeof(7), sys.getsizeof(17), sys.getsizeof(117),sys.getsizeof(777777777))\n",
        "print(sys.getsizeof(7)*len(lista), arr.itemsize*arr.size)"
      ],
      "metadata": {
        "id": "yFn7nQ-6vE_W",
        "colab": {
          "base_uri": "https://localhost:8080/"
        },
        "outputId": "446333db-8fd2-4161-a728-4742c596ebab"
      },
      "execution_count": null,
      "outputs": [
        {
          "output_type": "stream",
          "name": "stdout",
          "text": [
            "2800 800\n"
          ]
        }
      ]
    },
    {
      "cell_type": "code",
      "source": [
        "import time\n",
        "x, y=range(100000), range(100000, 200000)\n",
        "start_time=time.time()\n",
        "\n",
        "c=[x+y for x, y in zip(x, y)]\n",
        "\n",
        "end_time=time.time()\n",
        "print(f\"for list: {end_time-start_time}\")\n",
        "\n",
        "x, y=np.arange(100000), np.arange(100000, 200000)\n",
        "start_time=time.time()\n",
        "\n",
        "c=x+y\n",
        "\n",
        "end_time=time.time()\n",
        "print(f\"for array: {end_time-start_time}\")"
      ],
      "metadata": {
        "colab": {
          "base_uri": "https://localhost:8080/"
        },
        "id": "ug2u3eVF3bRq",
        "outputId": "a24ea659-c83e-4e5b-dc10-1314941ab986"
      },
      "execution_count": null,
      "outputs": [
        {
          "output_type": "stream",
          "name": "stdout",
          "text": [
            "for list: 0.017354965209960938\n",
            "for array: 0.0021600723266601562\n"
          ]
        }
      ]
    },
    {
      "cell_type": "code",
      "source": [
        "arr=np.arange(12).reshape(3, 4)\n",
        "arr"
      ],
      "metadata": {
        "colab": {
          "base_uri": "https://localhost:8080/"
        },
        "id": "JBn0X1Pe4pV0",
        "outputId": "79ec5f12-93a6-43a8-841e-d69f652f2b16"
      },
      "execution_count": null,
      "outputs": [
        {
          "output_type": "execute_result",
          "data": {
            "text/plain": [
              "array([[ 0,  1,  2,  3],\n",
              "       [ 4,  5,  6,  7],\n",
              "       [ 8,  9, 10, 11]])"
            ]
          },
          "metadata": {},
          "execution_count": 56
        }
      ]
    },
    {
      "cell_type": "markdown",
      "source": [
        "The reshape() function in NumPy is used to change the shape of an existing array without changing its data. It returns a new view of the array with the desired shape, as long as the number of elements in the original array is compatible with the new shape."
      ],
      "metadata": {
        "id": "t-TVk9bW7vGN"
      }
    },
    {
      "cell_type": "code",
      "source": [
        "arr[1, 2]"
      ],
      "metadata": {
        "colab": {
          "base_uri": "https://localhost:8080/"
        },
        "id": "MgeeXQdJ7BqO",
        "outputId": "9104cbc8-e7ce-44bc-cf24-d0c78f1cbb53"
      },
      "execution_count": null,
      "outputs": [
        {
          "output_type": "execute_result",
          "data": {
            "text/plain": [
              "6"
            ]
          },
          "metadata": {},
          "execution_count": 63
        }
      ]
    },
    {
      "cell_type": "code",
      "source": [
        "arr[:] # give all rows and as we haven't mentioned column it will give all column"
      ],
      "metadata": {
        "colab": {
          "base_uri": "https://localhost:8080/"
        },
        "id": "T6JzbjIa8Yjj",
        "outputId": "102907c1-bb94-4a3e-dc19-e6e41d985f37"
      },
      "execution_count": null,
      "outputs": [
        {
          "output_type": "execute_result",
          "data": {
            "text/plain": [
              "array([[ 0,  1,  2,  3],\n",
              "       [ 4,  5,  6,  7],\n",
              "       [ 8,  9, 10, 11]])"
            ]
          },
          "metadata": {},
          "execution_count": 70
        }
      ]
    },
    {
      "cell_type": "code",
      "source": [
        "arr[:, 1:3]"
      ],
      "metadata": {
        "colab": {
          "base_uri": "https://localhost:8080/"
        },
        "id": "LRXwINgh90XS",
        "outputId": "21fdf5ee-cfd2-413f-9aaf-7e251a01067a"
      },
      "execution_count": null,
      "outputs": [
        {
          "output_type": "execute_result",
          "data": {
            "text/plain": [
              "array([[ 1,  2],\n",
              "       [ 5,  6],\n",
              "       [ 9, 10]])"
            ]
          },
          "metadata": {},
          "execution_count": 74
        }
      ]
    },
    {
      "cell_type": "code",
      "source": [
        "arr[1:2, 1:3]"
      ],
      "metadata": {
        "colab": {
          "base_uri": "https://localhost:8080/"
        },
        "id": "jbZO7DOu92wd",
        "outputId": "d007d6a4-81b3-454f-ddc0-931d65f06e74"
      },
      "execution_count": null,
      "outputs": [
        {
          "output_type": "execute_result",
          "data": {
            "text/plain": [
              "array([[5, 6]])"
            ]
          },
          "metadata": {},
          "execution_count": 75
        }
      ]
    },
    {
      "cell_type": "code",
      "source": [
        "arr=np.arange(24).reshape(6, 4)\n",
        "arr"
      ],
      "metadata": {
        "colab": {
          "base_uri": "https://localhost:8080/"
        },
        "id": "YZjJn1Fa-UsL",
        "outputId": "78da3e05-10f1-4ca5-b475-3b86c813f575"
      },
      "execution_count": null,
      "outputs": [
        {
          "output_type": "execute_result",
          "data": {
            "text/plain": [
              "array([[ 0,  1,  2,  3],\n",
              "       [ 4,  5,  6,  7],\n",
              "       [ 8,  9, 10, 11],\n",
              "       [12, 13, 14, 15],\n",
              "       [16, 17, 18, 19],\n",
              "       [20, 21, 22, 23]])"
            ]
          },
          "metadata": {},
          "execution_count": 76
        }
      ]
    },
    {
      "cell_type": "code",
      "source": [
        "arr[2:4, 1:3]"
      ],
      "metadata": {
        "colab": {
          "base_uri": "https://localhost:8080/"
        },
        "id": "GoQRH_J2B6Kf",
        "outputId": "0196b96d-eb62-417c-fe59-e90cc0fa6a78"
      },
      "execution_count": null,
      "outputs": [
        {
          "output_type": "execute_result",
          "data": {
            "text/plain": [
              "array([[ 9, 10],\n",
              "       [13, 14]])"
            ]
          },
          "metadata": {},
          "execution_count": 77
        }
      ]
    },
    {
      "cell_type": "code",
      "source": [
        "arr=np.arange(10, 20).reshape(2, 5)\n",
        "for i in np.nditer(arr):\n",
        "  print(i)"
      ],
      "metadata": {
        "colab": {
          "base_uri": "https://localhost:8080/"
        },
        "id": "2KfuanL8CAKK",
        "outputId": "9b893cd5-31e0-4609-d95e-b2db2e1ff89d"
      },
      "execution_count": null,
      "outputs": [
        {
          "output_type": "stream",
          "name": "stdout",
          "text": [
            "10\n",
            "11\n",
            "12\n",
            "13\n",
            "14\n",
            "15\n",
            "16\n",
            "17\n",
            "18\n",
            "19\n"
          ]
        }
      ]
    },
    {
      "cell_type": "code",
      "source": [
        "for idx, num in np.ndenumerate(arr):\n",
        "  print(f\"index: {idx}, number: {num}\")"
      ],
      "metadata": {
        "colab": {
          "base_uri": "https://localhost:8080/"
        },
        "id": "VXYLTja5DL2r",
        "outputId": "45f9d0c7-caf7-468f-a53f-4f4fa389d72a"
      },
      "execution_count": null,
      "outputs": [
        {
          "output_type": "stream",
          "name": "stdout",
          "text": [
            "index: (0, 0), number: 10\n",
            "index: (0, 1), number: 11\n",
            "index: (0, 2), number: 12\n",
            "index: (0, 3), number: 13\n",
            "index: (0, 4), number: 14\n",
            "index: (1, 0), number: 15\n",
            "index: (1, 1), number: 16\n",
            "index: (1, 2), number: 17\n",
            "index: (1, 3), number: 18\n",
            "index: (1, 4), number: 19\n"
          ]
        }
      ]
    },
    {
      "cell_type": "code",
      "source": [
        "arr1=np.arange(5)\n",
        "arr2=np.arange(4,9)\n",
        "print(arr1, arr2)"
      ],
      "metadata": {
        "colab": {
          "base_uri": "https://localhost:8080/"
        },
        "id": "LQLMo-YtEHoe",
        "outputId": "6c41e861-c627-43b0-ae79-aa0ef5106ade"
      },
      "execution_count": null,
      "outputs": [
        {
          "output_type": "stream",
          "name": "stdout",
          "text": [
            "[0 1 2 3 4] [4 5 6 7 8]\n"
          ]
        }
      ]
    },
    {
      "cell_type": "code",
      "source": [
        "arr1+arr2"
      ],
      "metadata": {
        "colab": {
          "base_uri": "https://localhost:8080/"
        },
        "id": "y_0lp3PUEsEg",
        "outputId": "eb6d8baa-e87f-44a9-e543-e360abf255ce"
      },
      "execution_count": null,
      "outputs": [
        {
          "output_type": "execute_result",
          "data": {
            "text/plain": [
              "array([ 4,  6,  8, 10, 12])"
            ]
          },
          "metadata": {},
          "execution_count": 87
        }
      ]
    },
    {
      "cell_type": "code",
      "source": [
        "arr1*arr2"
      ],
      "metadata": {
        "colab": {
          "base_uri": "https://localhost:8080/"
        },
        "id": "lDmjuyCxE66z",
        "outputId": "8386133c-8217-4dbb-de69-bebe8a4f2858"
      },
      "execution_count": null,
      "outputs": [
        {
          "output_type": "execute_result",
          "data": {
            "text/plain": [
              "array([ 0,  5, 12, 21, 32])"
            ]
          },
          "metadata": {},
          "execution_count": 88
        }
      ]
    },
    {
      "cell_type": "code",
      "source": [
        "arr1>3"
      ],
      "metadata": {
        "colab": {
          "base_uri": "https://localhost:8080/"
        },
        "id": "7k1WQr33E8Xg",
        "outputId": "5b1ed74e-d1b7-44d1-ef6c-aa234135181e"
      },
      "execution_count": null,
      "outputs": [
        {
          "output_type": "execute_result",
          "data": {
            "text/plain": [
              "array([False, False, False, False,  True])"
            ]
          },
          "metadata": {},
          "execution_count": 89
        }
      ]
    },
    {
      "cell_type": "code",
      "source": [
        "arr1=np.arange(9).reshape(3, 3)\n",
        "arr2=np.arange(1, 10).reshape(3, 3)"
      ],
      "metadata": {
        "id": "Kb5c88omE--_"
      },
      "execution_count": null,
      "outputs": []
    },
    {
      "cell_type": "code",
      "source": [
        "arr1"
      ],
      "metadata": {
        "colab": {
          "base_uri": "https://localhost:8080/"
        },
        "id": "vFTR1jFQFqnl",
        "outputId": "9a28739b-14e9-4c00-eece-07d59f56b7a9"
      },
      "execution_count": null,
      "outputs": [
        {
          "output_type": "execute_result",
          "data": {
            "text/plain": [
              "array([[0, 1, 2],\n",
              "       [3, 4, 5],\n",
              "       [6, 7, 8]])"
            ]
          },
          "metadata": {},
          "execution_count": 91
        }
      ]
    },
    {
      "cell_type": "code",
      "source": [
        "arr2"
      ],
      "metadata": {
        "colab": {
          "base_uri": "https://localhost:8080/"
        },
        "id": "zbq2wy5IFrZi",
        "outputId": "5e7d3405-ba35-4440-f98c-675feceaf832"
      },
      "execution_count": null,
      "outputs": [
        {
          "output_type": "execute_result",
          "data": {
            "text/plain": [
              "array([[1, 2, 3],\n",
              "       [4, 5, 6],\n",
              "       [7, 8, 9]])"
            ]
          },
          "metadata": {},
          "execution_count": 92
        }
      ]
    },
    {
      "cell_type": "code",
      "source": [
        "arr1.dot(arr2) # arr1 . arr2 = arr1 * arr2   , shape must be same for both arrays"
      ],
      "metadata": {
        "colab": {
          "base_uri": "https://localhost:8080/"
        },
        "id": "az1F-M7UFsTr",
        "outputId": "a2a476e7-d63b-4c7b-ca96-2738121deb71"
      },
      "execution_count": null,
      "outputs": [
        {
          "output_type": "execute_result",
          "data": {
            "text/plain": [
              "array([[ 18,  21,  24],\n",
              "       [ 54,  66,  78],\n",
              "       [ 90, 111, 132]])"
            ]
          },
          "metadata": {},
          "execution_count": 95
        }
      ]
    },
    {
      "cell_type": "code",
      "source": [
        "arr2.max()"
      ],
      "metadata": {
        "colab": {
          "base_uri": "https://localhost:8080/"
        },
        "id": "igr155yyFwSW",
        "outputId": "f875d0ef-3d06-45ce-85ca-df0d462c0ea0"
      },
      "execution_count": null,
      "outputs": [
        {
          "output_type": "execute_result",
          "data": {
            "text/plain": [
              "9"
            ]
          },
          "metadata": {},
          "execution_count": 96
        }
      ]
    },
    {
      "cell_type": "code",
      "source": [
        "arr2.min(axis=0) # it will give minimum value colunm wise as axis is 0, for row wise, set axis=1"
      ],
      "metadata": {
        "colab": {
          "base_uri": "https://localhost:8080/"
        },
        "id": "qtmg3Ql-GJRL",
        "outputId": "82a9fc5b-a4a6-4637-de38-be9935959b3e"
      },
      "execution_count": null,
      "outputs": [
        {
          "output_type": "execute_result",
          "data": {
            "text/plain": [
              "array([1, 2, 3])"
            ]
          },
          "metadata": {},
          "execution_count": 99
        }
      ]
    },
    {
      "cell_type": "code",
      "source": [
        "arr1.sum(axis=0) # return array where each element is sum of respective column"
      ],
      "metadata": {
        "colab": {
          "base_uri": "https://localhost:8080/"
        },
        "id": "f_4Z73c8GWlo",
        "outputId": "aea187c4-a646-4050-c191-c30af1f12ef1"
      },
      "execution_count": null,
      "outputs": [
        {
          "output_type": "execute_result",
          "data": {
            "text/plain": [
              "array([ 9, 12, 15])"
            ]
          },
          "metadata": {},
          "execution_count": 101
        }
      ]
    },
    {
      "cell_type": "code",
      "source": [
        "arr1.mean()"
      ],
      "metadata": {
        "colab": {
          "base_uri": "https://localhost:8080/"
        },
        "id": "5I1Kf5doHEBi",
        "outputId": "a4f3a5ae-ee6a-4ad4-bd0a-3ef364396519"
      },
      "execution_count": null,
      "outputs": [
        {
          "output_type": "execute_result",
          "data": {
            "text/plain": [
              "4.0"
            ]
          },
          "metadata": {},
          "execution_count": 102
        }
      ]
    },
    {
      "cell_type": "code",
      "source": [
        "np.median(arr1)"
      ],
      "metadata": {
        "colab": {
          "base_uri": "https://localhost:8080/"
        },
        "id": "4fqvUeKSHcC9",
        "outputId": "e4172888-c3d7-4e0b-f3d5-7335d0b2a6ed"
      },
      "execution_count": null,
      "outputs": [
        {
          "output_type": "execute_result",
          "data": {
            "text/plain": [
              "4.0"
            ]
          },
          "metadata": {},
          "execution_count": 105
        }
      ]
    },
    {
      "cell_type": "code",
      "source": [
        "arr2.std()"
      ],
      "metadata": {
        "colab": {
          "base_uri": "https://localhost:8080/"
        },
        "id": "B4vX8zVCHMr2",
        "outputId": "822483c9-be11-4155-aa80-f62de74ec93f"
      },
      "execution_count": null,
      "outputs": [
        {
          "output_type": "execute_result",
          "data": {
            "text/plain": [
              "2.581988897471611"
            ]
          },
          "metadata": {},
          "execution_count": 103
        }
      ]
    },
    {
      "cell_type": "code",
      "source": [
        "np.sin(arr1)"
      ],
      "metadata": {
        "colab": {
          "base_uri": "https://localhost:8080/"
        },
        "id": "P06jlYwvHVW0",
        "outputId": "6e24c995-9f8b-4be8-c690-13764cfd2d86"
      },
      "execution_count": null,
      "outputs": [
        {
          "output_type": "execute_result",
          "data": {
            "text/plain": [
              "array([[ 0.        ,  0.84147098,  0.90929743],\n",
              "       [ 0.14112001, -0.7568025 , -0.95892427],\n",
              "       [-0.2794155 ,  0.6569866 ,  0.98935825]])"
            ]
          },
          "metadata": {},
          "execution_count": 104
        }
      ]
    },
    {
      "cell_type": "markdown",
      "source": [
        "all these and many more such as exp(), log() and many more can be used in rows or column specific by mentioning axis"
      ],
      "metadata": {
        "id": "UUQDgDr5H4yn"
      }
    },
    {
      "cell_type": "markdown",
      "source": [
        "## `ravel()` : returns multi-dimensional array into a contiguous 1D array.\n",
        "\n",
        "* return a view of the original array when possible, meaning changes to the ravel() result can affect the original array\n",
        "\n",
        "* `flatten()` return a copy of flatten array of multi-dimensional array. so, modification doesn't reflact on original array."
      ],
      "metadata": {
        "id": "HpPZ3u5_JasC"
      }
    },
    {
      "cell_type": "code",
      "source": [
        "np.ravel(arr2)"
      ],
      "metadata": {
        "colab": {
          "base_uri": "https://localhost:8080/"
        },
        "id": "LGGjKcwBHisq",
        "outputId": "f9b6274f-c0b3-472a-9d53-7ddb1149796d"
      },
      "execution_count": null,
      "outputs": [
        {
          "output_type": "execute_result",
          "data": {
            "text/plain": [
              "array([1, 2, 3, 4, 5, 6, 7, 8, 9])"
            ]
          },
          "metadata": {},
          "execution_count": 106
        }
      ]
    },
    {
      "cell_type": "code",
      "source": [
        "arr=np.ravel(arr1)\n",
        "arr[1]=100\n",
        "print(arr, np.ravel(arr1)) # reflact on original array too."
      ],
      "metadata": {
        "colab": {
          "base_uri": "https://localhost:8080/"
        },
        "id": "poUrKd_vKUp2",
        "outputId": "7a043e1b-50c3-4d08-afa7-9ca8f1d779d3"
      },
      "execution_count": null,
      "outputs": [
        {
          "output_type": "stream",
          "name": "stdout",
          "text": [
            "[  0 100   2   3   4   5   6   7   8] [  0 100   2   3   4   5   6   7   8]\n"
          ]
        }
      ]
    },
    {
      "cell_type": "code",
      "source": [
        "arr1.transpose()"
      ],
      "metadata": {
        "colab": {
          "base_uri": "https://localhost:8080/"
        },
        "id": "W3I_Ja4LKaku",
        "outputId": "07cd09f2-fa4e-4cdb-fd08-d1c52382e490"
      },
      "execution_count": null,
      "outputs": [
        {
          "output_type": "execute_result",
          "data": {
            "text/plain": [
              "array([[  0,   3,   6],\n",
              "       [100,   4,   7],\n",
              "       [  2,   5,   8]])"
            ]
          },
          "metadata": {},
          "execution_count": 111
        }
      ]
    },
    {
      "cell_type": "markdown",
      "source": [
        "## stacking: process of joining arrays along a new axis.\n",
        "\n",
        "\n",
        "\n",
        "*   `vstack()`: Stacks arrays vertically (row-wise).\n",
        "*   `hstack()`: Stacks arrays horizontally (column-wise).\n",
        "\n"
      ],
      "metadata": {
        "id": "8-xT0B6-M7iL"
      }
    },
    {
      "cell_type": "code",
      "source": [
        "a = np.array([1, 2, 3])\n",
        "b = np.array([4, 5, 6])"
      ],
      "metadata": {
        "id": "kdLldD2nLPvC"
      },
      "execution_count": null,
      "outputs": []
    },
    {
      "cell_type": "code",
      "source": [
        "np.hstack((a, b))"
      ],
      "metadata": {
        "colab": {
          "base_uri": "https://localhost:8080/"
        },
        "id": "d4GSNGlLNYT0",
        "outputId": "7a947705-76e0-4e89-c4b9-d30bfc9eb7b8"
      },
      "execution_count": null,
      "outputs": [
        {
          "output_type": "execute_result",
          "data": {
            "text/plain": [
              "array([1, 2, 3, 4, 5, 6])"
            ]
          },
          "metadata": {},
          "execution_count": 113
        }
      ]
    },
    {
      "cell_type": "code",
      "source": [
        "np.vstack((a,b))"
      ],
      "metadata": {
        "colab": {
          "base_uri": "https://localhost:8080/"
        },
        "id": "ANvqQpcYNcFO",
        "outputId": "929c6e23-5dfd-4c89-e212-0c573b5be10a"
      },
      "execution_count": null,
      "outputs": [
        {
          "output_type": "execute_result",
          "data": {
            "text/plain": [
              "array([[1, 2, 3],\n",
              "       [4, 5, 6]])"
            ]
          },
          "metadata": {},
          "execution_count": 114
        }
      ]
    },
    {
      "cell_type": "markdown",
      "source": [
        "## spliting: split horizontally or vertically."
      ],
      "metadata": {
        "id": "p57gIZqTNhLY"
      }
    },
    {
      "cell_type": "code",
      "source": [
        "arr=np.arange(20).reshape(4,5)\n",
        "arr"
      ],
      "metadata": {
        "colab": {
          "base_uri": "https://localhost:8080/"
        },
        "id": "lvzXxQAWNeVl",
        "outputId": "be34407b-cc6a-4375-8b27-4a55ae88e500"
      },
      "execution_count": null,
      "outputs": [
        {
          "output_type": "execute_result",
          "data": {
            "text/plain": [
              "array([[ 0,  1,  2,  3,  4],\n",
              "       [ 5,  6,  7,  8,  9],\n",
              "       [10, 11, 12, 13, 14],\n",
              "       [15, 16, 17, 18, 19]])"
            ]
          },
          "metadata": {},
          "execution_count": 115
        }
      ]
    },
    {
      "cell_type": "code",
      "source": [
        "np.vsplit(arr, 2)"
      ],
      "metadata": {
        "colab": {
          "base_uri": "https://localhost:8080/"
        },
        "id": "bxGWB1hANx_U",
        "outputId": "76443f54-64f5-46f6-d7db-70772b7e24a7"
      },
      "execution_count": null,
      "outputs": [
        {
          "output_type": "execute_result",
          "data": {
            "text/plain": [
              "[array([[0, 1, 2, 3, 4],\n",
              "        [5, 6, 7, 8, 9]]),\n",
              " array([[10, 11, 12, 13, 14],\n",
              "        [15, 16, 17, 18, 19]])]"
            ]
          },
          "metadata": {},
          "execution_count": 116
        }
      ]
    },
    {
      "cell_type": "code",
      "source": [
        "np.hsplit(arr, 5)"
      ],
      "metadata": {
        "colab": {
          "base_uri": "https://localhost:8080/"
        },
        "id": "gj8Q-HX8N32n",
        "outputId": "7998bc54-b664-4511-d4a1-de79b908f422"
      },
      "execution_count": null,
      "outputs": [
        {
          "output_type": "execute_result",
          "data": {
            "text/plain": [
              "[array([[ 0],\n",
              "        [ 5],\n",
              "        [10],\n",
              "        [15]]),\n",
              " array([[ 1],\n",
              "        [ 6],\n",
              "        [11],\n",
              "        [16]]),\n",
              " array([[ 2],\n",
              "        [ 7],\n",
              "        [12],\n",
              "        [17]]),\n",
              " array([[ 3],\n",
              "        [ 8],\n",
              "        [13],\n",
              "        [18]]),\n",
              " array([[ 4],\n",
              "        [ 9],\n",
              "        [14],\n",
              "        [19]])]"
            ]
          },
          "metadata": {},
          "execution_count": 117
        }
      ]
    },
    {
      "cell_type": "markdown",
      "source": [
        "## filter: to filter out all element with condition like `element>5`."
      ],
      "metadata": {
        "id": "n9RhaFkOPnba"
      }
    },
    {
      "cell_type": "code",
      "source": [
        "arr"
      ],
      "metadata": {
        "colab": {
          "base_uri": "https://localhost:8080/"
        },
        "id": "yp-F1GJuN9MZ",
        "outputId": "c3a6741b-c90c-4376-c0da-79a37456ec5c"
      },
      "execution_count": null,
      "outputs": [
        {
          "output_type": "execute_result",
          "data": {
            "text/plain": [
              "array([[ 0,  1,  2,  3,  4],\n",
              "       [ 5,  6,  7,  8,  9],\n",
              "       [10, 11, 12, 13, 14],\n",
              "       [15, 16, 17, 18, 19]])"
            ]
          },
          "metadata": {},
          "execution_count": 118
        }
      ]
    },
    {
      "cell_type": "code",
      "source": [
        "arr[(arr>5) & (arr&1==0)]  # greater than 5 and even"
      ],
      "metadata": {
        "colab": {
          "base_uri": "https://localhost:8080/"
        },
        "id": "_jfx4ko5PzJt",
        "outputId": "27a90800-edfc-4d59-a92f-c72b51a620d5"
      },
      "execution_count": null,
      "outputs": [
        {
          "output_type": "execute_result",
          "data": {
            "text/plain": [
              "array([ 6,  8, 10, 12, 14, 16, 18])"
            ]
          },
          "metadata": {},
          "execution_count": 121
        }
      ]
    },
    {
      "cell_type": "code",
      "source": [
        "arr[(arr>5) & (arr&1==0)]=0 # all element which satisfies these condition is set to 0.\n",
        "arr"
      ],
      "metadata": {
        "colab": {
          "base_uri": "https://localhost:8080/"
        },
        "id": "G9SxAmmYP4rq",
        "outputId": "74e71c74-341f-4431-e8f8-07c787c593a9"
      },
      "execution_count": null,
      "outputs": [
        {
          "output_type": "execute_result",
          "data": {
            "text/plain": [
              "array([[ 0,  1,  2,  3,  4],\n",
              "       [ 5,  0,  7,  0,  9],\n",
              "       [ 0, 11,  0, 13,  0],\n",
              "       [15,  0, 17,  0, 19]])"
            ]
          },
          "metadata": {},
          "execution_count": 123
        }
      ]
    },
    {
      "cell_type": "code",
      "source": [
        "x=np.linspace(-40, 40, 20)\n",
        "x"
      ],
      "metadata": {
        "colab": {
          "base_uri": "https://localhost:8080/"
        },
        "id": "vJFliEGEQJyI",
        "outputId": "10e6b3ff-2bc2-4a4c-88de-d1af3ee1b74f"
      },
      "execution_count": 6,
      "outputs": [
        {
          "output_type": "execute_result",
          "data": {
            "text/plain": [
              "array([-40.        , -35.78947368, -31.57894737, -27.36842105,\n",
              "       -23.15789474, -18.94736842, -14.73684211, -10.52631579,\n",
              "        -6.31578947,  -2.10526316,   2.10526316,   6.31578947,\n",
              "        10.52631579,  14.73684211,  18.94736842,  23.15789474,\n",
              "        27.36842105,  31.57894737,  35.78947368,  40.        ])"
            ]
          },
          "metadata": {},
          "execution_count": 6
        }
      ]
    },
    {
      "cell_type": "code",
      "source": [
        "y=np.sin(x)\n",
        "y"
      ],
      "metadata": {
        "colab": {
          "base_uri": "https://localhost:8080/"
        },
        "id": "DSZxPRy4QvF5",
        "outputId": "eb9f376b-4ab6-42d4-c4e2-d72ea2b452f9"
      },
      "execution_count": 7,
      "outputs": [
        {
          "output_type": "execute_result",
          "data": {
            "text/plain": [
              "array([-0.74511316,  0.94314027, -0.16229972, -0.78698867,  0.91947624,\n",
              "       -0.09765661, -0.82551899,  0.89190386, -0.03259839, -0.86054034,\n",
              "        0.86054034,  0.03259839, -0.89190386,  0.82551899,  0.09765661,\n",
              "       -0.91947624,  0.78698867,  0.16229972, -0.94314027,  0.74511316])"
            ]
          },
          "metadata": {},
          "execution_count": 7
        }
      ]
    },
    {
      "cell_type": "code",
      "source": [
        "import matplotlib.pyplot as plt\n",
        "%matplotlib inline"
      ],
      "metadata": {
        "id": "sxhzUbWtQ9Y_"
      },
      "execution_count": 8,
      "outputs": []
    },
    {
      "cell_type": "code",
      "source": [
        "plt.plot(x, y)"
      ],
      "metadata": {
        "colab": {
          "base_uri": "https://localhost:8080/",
          "height": 448
        },
        "id": "qNcq-O4HRJSv",
        "outputId": "47f8415e-6dc9-406f-8175-5bb7819b3484"
      },
      "execution_count": 9,
      "outputs": [
        {
          "output_type": "execute_result",
          "data": {
            "text/plain": [
              "[<matplotlib.lines.Line2D at 0x7fc9dc30e5c0>]"
            ]
          },
          "metadata": {},
          "execution_count": 9
        },
        {
          "output_type": "display_data",
          "data": {
            "text/plain": [
              "<Figure size 640x480 with 1 Axes>"
            ],
            "image/png": "[encoded data removed]"
          },
          "metadata": {}
        }
      ]
    },
    {
      "cell_type": "code",
      "source": [
        "y=x*x + x*6 + 7\n",
        "plt.plot(x, y)"
      ],
      "metadata": {
        "id": "jFlP_tGLROP-",
        "colab": {
          "base_uri": "https://localhost:8080/",
          "height": 448
        },
        "outputId": "295dd62b-473d-4169-f427-2f57bcdb7e67"
      },
      "execution_count": 10,
      "outputs": [
        {
          "output_type": "execute_result",
          "data": {
            "text/plain": [
              "[<matplotlib.lines.Line2D at 0x7fc9b8d0fac0>]"
            ]
          },
          "metadata": {},
          "execution_count": 10
        },
        {
          "output_type": "display_data",
          "data": {
            "text/plain": [
              "<Figure size 640x480 with 1 Axes>"
            ],
            "image/png": "[encoded data removed]"
          },
          "metadata": {}
        }
      ]
    },
    {
      "cell_type": "markdown",
      "source": [
        "# Broadcasting:\n",
        " ability of NumPy to perform arithmetic operations on arrays of different shapes in a way that makes them compatible by virtually expanding the smaller array to match the shape of the larger one.\n"
      ],
      "metadata": {
        "id": "tHXiK0wxTVuJ"
      }
    },
    {
      "cell_type": "code",
      "source": [
        "a=np.arange(4) # here a is being strached to [[0, 1, 2, 3], [0, 1, 2, 3]]\n",
        "b=np.arange(8).reshape(2, 4)\n",
        "print(f\"b={b}  a= {a}\")\n",
        "a+b"
      ],
      "metadata": {
        "colab": {
          "base_uri": "https://localhost:8080/"
        },
        "id": "i_yXMVuPTPAh",
        "outputId": "7161cb4e-3036-499c-bce3-af8ac28dd27f"
      },
      "execution_count": 15,
      "outputs": [
        {
          "output_type": "stream",
          "name": "stdout",
          "text": [
            "b=[[0 1 2 3]\n",
            " [4 5 6 7]]  a= [0 1 2 3]\n"
          ]
        },
        {
          "output_type": "execute_result",
          "data": {
            "text/plain": [
              "array([[ 0,  2,  4,  6],\n",
              "       [ 4,  6,  8, 10]])"
            ]
          },
          "metadata": {},
          "execution_count": 15
        }
      ]
    },
    {
      "cell_type": "code",
      "source": [
        "b=np.arange(4).reshape(4, 1)\n",
        "b"
      ],
      "metadata": {
        "colab": {
          "base_uri": "https://localhost:8080/"
        },
        "id": "KKh6YUkzaD3k",
        "outputId": "4a1ee7a2-84aa-4608-91d6-756f73334f76"
      },
      "execution_count": 17,
      "outputs": [
        {
          "output_type": "execute_result",
          "data": {
            "text/plain": [
              "array([[0],\n",
              "       [1],\n",
              "       [2],\n",
              "       [3]])"
            ]
          },
          "metadata": {},
          "execution_count": 17
        }
      ]
    },
    {
      "cell_type": "code",
      "source": [
        "a"
      ],
      "metadata": {
        "colab": {
          "base_uri": "https://localhost:8080/"
        },
        "id": "t7ND1diRay7_",
        "outputId": "2778ff1e-ea51-4c76-aede-c5b87e85db74"
      },
      "execution_count": 18,
      "outputs": [
        {
          "output_type": "execute_result",
          "data": {
            "text/plain": [
              "array([0, 1, 2, 3])"
            ]
          },
          "metadata": {},
          "execution_count": 18
        }
      ]
    },
    {
      "cell_type": "code",
      "source": [
        "a+b # here a is strached to [[0 1 2 3], [0 1 2 3], [0 1 2 3], [0 1 2 3]]\n",
        "    # and b is strached to [[0, 0, 0, 0], [1, 1, 1, 1], [2, 2, 2, 2], [3, 3, 3,3]]"
      ],
      "metadata": {
        "colab": {
          "base_uri": "https://localhost:8080/"
        },
        "id": "5AQ3_FXma1cP",
        "outputId": "7bc0f8ff-13f8-4c96-d288-46edffad78dd"
      },
      "execution_count": 20,
      "outputs": [
        {
          "output_type": "execute_result",
          "data": {
            "text/plain": [
              "array([[0, 1, 2, 3],\n",
              "       [1, 2, 3, 4],\n",
              "       [2, 3, 4, 5],\n",
              "       [3, 4, 5, 6]])"
            ]
          },
          "metadata": {},
          "execution_count": 20
        }
      ]
    },
    {
      "cell_type": "markdown",
      "source": [
        "#Functions:\n"
      ],
      "metadata": {
        "id": "NbFtG7GbhTuQ"
      }
    },
    {
      "cell_type": "code",
      "source": [
        "np.random.random()"
      ],
      "metadata": {
        "colab": {
          "base_uri": "https://localhost:8080/"
        },
        "id": "evDld4pwa3EG",
        "outputId": "5d73ea28-9119-412c-9e07-ae3d2c162be1"
      },
      "execution_count": 22,
      "outputs": [
        {
          "output_type": "execute_result",
          "data": {
            "text/plain": [
              "0.15943563683963613"
            ]
          },
          "metadata": {},
          "execution_count": 22
        }
      ]
    },
    {
      "cell_type": "code",
      "source": [
        "np.random.seed(1)  # initialize the random number generator and ensures that you get the same sequence of random numbers every time you run the code.\n",
        "np.random.random()"
      ],
      "metadata": {
        "colab": {
          "base_uri": "https://localhost:8080/"
        },
        "id": "yttODYABhdmv",
        "outputId": "78671226-eddb-48ff-bea6-c2ab1f0f6bf6"
      },
      "execution_count": 28,
      "outputs": [
        {
          "output_type": "execute_result",
          "data": {
            "text/plain": [
              "0.417022004702574"
            ]
          },
          "metadata": {},
          "execution_count": 28
        }
      ]
    },
    {
      "cell_type": "code",
      "source": [
        "# np.random.seed(1)\n",
        "np.random.uniform(3, 10)"
      ],
      "metadata": {
        "colab": {
          "base_uri": "https://localhost:8080/"
        },
        "id": "yHYwqqpuixp7",
        "outputId": "70009174-61af-4d2a-d82d-e9d981ffdc6f"
      },
      "execution_count": 34,
      "outputs": [
        {
          "output_type": "execute_result",
          "data": {
            "text/plain": [
              "5.9191540329180174"
            ]
          },
          "metadata": {},
          "execution_count": 34
        }
      ]
    },
    {
      "cell_type": "code",
      "source": [
        "np.random.uniform(3, 15, 6).reshape(2, 3)  # uniform(start, end, size_of_array)"
      ],
      "metadata": {
        "colab": {
          "base_uri": "https://localhost:8080/"
        },
        "id": "DIYJpfc2i4vO",
        "outputId": "f5a4cbbe-b50f-4c71-ad96-26e1cc4713a6"
      },
      "execution_count": 39,
      "outputs": [
        {
          "output_type": "execute_result",
          "data": {
            "text/plain": [
              "array([[13.51666983, 13.73527996,  4.02053054],\n",
              "       [ 3.4686574 ,  5.03796503, 13.53771004]])"
            ]
          },
          "metadata": {},
          "execution_count": 39
        }
      ]
    },
    {
      "cell_type": "code",
      "source": [
        "a=np.random.randint(1, 14, 4).reshape(2,2)   # randint(start, end, size_of_array)\n",
        "a"
      ],
      "metadata": {
        "colab": {
          "base_uri": "https://localhost:8080/"
        },
        "id": "_wP7JcKbjKT-",
        "outputId": "3032886a-5f0b-4122-e646-3d494a326fc2"
      },
      "execution_count": 60,
      "outputs": [
        {
          "output_type": "execute_result",
          "data": {
            "text/plain": [
              "array([[10,  4],\n",
              "       [ 7,  9]])"
            ]
          },
          "metadata": {},
          "execution_count": 60
        }
      ]
    },
    {
      "cell_type": "code",
      "source": [
        "np.min(a)"
      ],
      "metadata": {
        "colab": {
          "base_uri": "https://localhost:8080/"
        },
        "id": "MCTzvUDBjnxa",
        "outputId": "9c3e2a8b-0764-4538-a605-5132dbb6761e"
      },
      "execution_count": 62,
      "outputs": [
        {
          "output_type": "execute_result",
          "data": {
            "text/plain": [
              "-1"
            ]
          },
          "metadata": {},
          "execution_count": 62
        }
      ]
    },
    {
      "cell_type": "code",
      "source": [
        "np.argmax(a) # return index of maximum element"
      ],
      "metadata": {
        "colab": {
          "base_uri": "https://localhost:8080/"
        },
        "id": "CrUhglcUkqaQ",
        "outputId": "9e3128c9-1650-4e8b-8b73-98c00b709667"
      },
      "execution_count": 63,
      "outputs": [
        {
          "output_type": "execute_result",
          "data": {
            "text/plain": [
              "3"
            ]
          },
          "metadata": {},
          "execution_count": 63
        }
      ]
    },
    {
      "cell_type": "code",
      "source": [
        "np.argmin(a)"
      ],
      "metadata": {
        "colab": {
          "base_uri": "https://localhost:8080/"
        },
        "id": "DCj_irI3k-DA",
        "outputId": "947cb85e-46b6-45ae-fd5c-bce312ff9b33"
      },
      "execution_count": 64,
      "outputs": [
        {
          "output_type": "execute_result",
          "data": {
            "text/plain": [
              "0"
            ]
          },
          "metadata": {},
          "execution_count": 64
        }
      ]
    },
    {
      "cell_type": "code",
      "source": [
        "a[(a%2==0)]=-1 # here the change is being done in original array itself\n",
        "a"
      ],
      "metadata": {
        "colab": {
          "base_uri": "https://localhost:8080/"
        },
        "id": "L6yIvcu6lGXh",
        "outputId": "d9897224-7fbc-4f75-f9f8-132c52721c6f"
      },
      "execution_count": 61,
      "outputs": [
        {
          "output_type": "execute_result",
          "data": {
            "text/plain": [
              "array([[-1, -1],\n",
              "       [ 7,  9]])"
            ]
          },
          "metadata": {},
          "execution_count": 61
        }
      ]
    },
    {
      "cell_type": "code",
      "source": [
        "a=np.array([4, 3, 2, 5, 7, 8])\n",
        "np.where(a%2==0, -1, a)  # here it return the modified array, but donot change in original array"
      ],
      "metadata": {
        "colab": {
          "base_uri": "https://localhost:8080/"
        },
        "id": "pbl2MO9HlhCi",
        "outputId": "6e60e0fc-b35b-4b3b-8651-5282d7ea29d6"
      },
      "execution_count": 67,
      "outputs": [
        {
          "output_type": "execute_result",
          "data": {
            "text/plain": [
              "array([-1,  3, -1,  5,  7, -1])"
            ]
          },
          "metadata": {},
          "execution_count": 67
        }
      ]
    },
    {
      "cell_type": "code",
      "source": [
        "a    # no change in original array"
      ],
      "metadata": {
        "colab": {
          "base_uri": "https://localhost:8080/"
        },
        "id": "gFMLg_ydmztg",
        "outputId": "7c6f8cd4-cdf3-4059-df66-e59c37d91750"
      },
      "execution_count": 69,
      "outputs": [
        {
          "output_type": "execute_result",
          "data": {
            "text/plain": [
              "array([4, 3, 2, 5, 7, 8])"
            ]
          },
          "metadata": {},
          "execution_count": 69
        }
      ]
    },
    {
      "cell_type": "code",
      "source": [
        "a=np.sort(a)\n",
        "a"
      ],
      "metadata": {
        "colab": {
          "base_uri": "https://localhost:8080/"
        },
        "id": "kKWZ9NAjnFFI",
        "outputId": "ff2420d0-b950-4b8f-af2e-7e12a5ab4d9d"
      },
      "execution_count": 72,
      "outputs": [
        {
          "output_type": "execute_result",
          "data": {
            "text/plain": [
              "array([2, 3, 4, 5, 7, 8])"
            ]
          },
          "metadata": {},
          "execution_count": 72
        }
      ]
    },
    {
      "cell_type": "code",
      "source": [
        "np.percentile(a, 80)   # return the number which is greater than the second_param percentile of element of array"
      ],
      "metadata": {
        "colab": {
          "base_uri": "https://localhost:8080/"
        },
        "id": "4UJeiu6PnTQf",
        "outputId": "4399ae47-3bf0-47e6-d5ad-91e29615c08f"
      },
      "execution_count": 76,
      "outputs": [
        {
          "output_type": "execute_result",
          "data": {
            "text/plain": [
              "7.0"
            ]
          },
          "metadata": {},
          "execution_count": 76
        }
      ]
    },
    {
      "cell_type": "code",
      "source": [],
      "metadata": {
        "id": "2WOWb3ceoJlb"
      },
      "execution_count": null,
      "outputs": []
    }
  ]
}